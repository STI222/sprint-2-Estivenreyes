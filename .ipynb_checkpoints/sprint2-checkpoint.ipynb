{
 "cells": [
  {
   "cell_type": "code",
   "execution_count": 3,
   "id": "572ca1a0",
   "metadata": {
    "scrolled": true
   },
   "outputs": [
    {
     "name": "stdout",
     "output_type": "stream",
     "text": [
      "      Nombre  Mejia  Joseph  Jhonathan  Jolyne\n",
      "0     Fuerza     90     200        150     205\n",
      "1         IQ    500     300        120     180\n",
      "2  Velocidad     20     120         80     230\n",
      "3       Edad     22      19         26      18\n",
      "Se realiza el ingreso a los participantes del torneo de fuerza persona 1:z\n",
      "Chequeo de quienes pagaron la entrada al torneo perosna 2:y\n"
     ]
    },
    {
     "ename": "TypeError",
     "evalue": "matriz() missing 2 required positional arguments: 'c0' and 'c9'",
     "output_type": "error",
     "traceback": [
      "\u001b[1;31m---------------------------------------------------------------------------\u001b[0m",
      "\u001b[1;31mTypeError\u001b[0m                                 Traceback (most recent call last)",
      "Input \u001b[1;32mIn [3]\u001b[0m, in \u001b[0;36m<cell line: 91>\u001b[1;34m()\u001b[0m\n\u001b[0;32m     88\u001b[0m     zi \u001b[38;5;241m=\u001b[39m ab\u001b[38;5;241m/\u001b[39m(cd\u001b[38;5;241m*\u001b[39mad)\n\u001b[0;32m     89\u001b[0m     \u001b[38;5;28;01mreturn\u001b[39;00m(zi)\n\u001b[1;32m---> 91\u001b[0m sys\u001b[38;5;241m.\u001b[39mmodules[\u001b[38;5;18m__name__\u001b[39m] \u001b[38;5;241m=\u001b[39m \u001b[43mmatriz\u001b[49m\u001b[43m(\u001b[49m\u001b[43m)\u001b[49m\n\u001b[0;32m     93\u001b[0m \u001b[38;5;28mprint\u001b[39m(\u001b[38;5;124m\"\u001b[39m\u001b[38;5;124m--------------------------------------------\u001b[39m\u001b[38;5;124m\"\u001b[39m)\n\u001b[0;32m     94\u001b[0m \u001b[38;5;28mprint\u001b[39m(\u001b[38;5;124m\"\u001b[39m\u001b[38;5;124mEl paralelismo entre estos elementos claramente es\u001b[39m\u001b[38;5;124m\"\u001b[39m)\n",
      "\u001b[1;31mTypeError\u001b[0m: matriz() missing 2 required positional arguments: 'c0' and 'c9'"
     ]
    }
   ],
   "source": [
    "import sys\n",
    "import math\n",
    "import pandas as pan\n",
    "\n",
    "sp = pan.read_csv(\"./Sprint2.csv\")\n",
    "n1 = sp['Mejia']\n",
    "n2 = sp['Joseph']\n",
    "n3 = sp['Jhonathan']\n",
    "n4 = sp['Jolyne']\n",
    "\n",
    "print(sp)\n",
    "\n",
    "z=input(\"Se realiza el ingreso a los participantes del torneo de fuerza persona 1:\")\n",
    "y=input(\"Chequeo de quienes pagaron la entrada al torneo perosna 2:\") \n",
    "\n",
    "def matriz (c0,c9):\n",
    "    \n",
    "    if(c0==\"n1\")and(c9==\"n2\"):\n",
    "    \n",
    "        ab = int((p1[0]*p2[0])+(p1[1]*p2[1])+(p1[2]*p2[2])+(p1[3]*p2[3]))\n",
    "        cd = int(math.sqrt((p1[0]**2)+(p1[1]**2)+(p1[2]**2)+(p1[3]**2)))\n",
    "        ad = int(math.sqrt((p2[0]**2)+(p2[1]**2)+(p2[2]**2)+(p2[3]**2)))\n",
    "        \n",
    "    elif(z==\"n1\")and(y==\"n3\"):\n",
    "        \n",
    "        ab = int((p1[0]*p3[0])+(p1[1]*p3[1])+(p1[2]*p3[2])+(p1[3]*p3[3]))\n",
    "        cd = int(math.sqrt((p1[0]**2)+(p1[1]**2)+(p1[2]**2)+(p1[3]**2)))\n",
    "        ad = int(math.sqrt((p3[0]**2)+(p3[1]**2)+(p3[2]**2)+(p3[3]**2)))\n",
    "        \n",
    "    elif(z==\"n1\")and(y==\"n4\"):\n",
    "        \n",
    "        ab = int((p4[0]*p1[0])+(p4[1]*p1[1])+(p4[2]*p1[2])+(p4[3]*p1[3]))\n",
    "        cd = int(math.sqrt((p4[0]**2)+(p4[1]**2)+(p4[2]**2)+(p4[3]**2)))\n",
    "        ad = int(math.sqrt((p1[0]**2)+(p1[1]**2)+(p1[2]**2)+(p1[3]**2)))\n",
    "                \n",
    "    \n",
    "    elif(z==\"n2\")and(y==\"n1\"):\n",
    "        \n",
    "        ab = int((p1[0]*p2[0])+(p1[1]*p2[1])+(p1[2]*p2[2])+(p1[3]*p2[3]))\n",
    "        cd = int(math.sqrt((p1[0]**2)+(p1[1]**2)+(p1[2]**2)+(p1[3]**2)))\n",
    "        ad = int(math.sqrt((p2[0]**2)+(p2[1]**2)+(p2[2]**2)+(p2[3]**2)))\n",
    "        \n",
    "    elif(z==\"n2\")and(y==\"n3\"):\n",
    "        \n",
    "        ab = int((p2[0]*p3[0])+(p2[1]*p3[1])+(p2[2]*p3[2])+(p2[3]*p3[3]))\n",
    "        cd = int(math.sqrt((p2[0]**2)+(p2[1]**2)+(p2[2]**2)+(p2[3]**2)))\n",
    "        ad = int(math.sqrt((p3[0]**2)+(p3[1]**2)+(p3[2]**2)+(p3[3]**2)))\n",
    "        \n",
    "    elif(z==\"n2\")and(y==\"n4\"):\n",
    "        \n",
    "        ab = int((p2[0]*p4[0])+(p2[1]*p4[1])+(p2[2]*p4[2])+(p2[3]*p4[3]))\n",
    "        cd = int(math.sqrt((p2[0]**2)+(p2[1]**2)+(p2[2]**2)+(p2[3]**2)))\n",
    "        ad = int(math.sqrt((p4[0]**2)+(p4[1]**2)+(p4[2]**2)+(p4[3]**2)))\n",
    "        \n",
    "    elif(z==\"n3\")and(y==\"n1\"):\n",
    "        \n",
    "        ab = int((p1[0]*p3[0])+(p1[1]*p3[1])+(p1[2]*p3[2])+(p1[3]*p3[3]))\n",
    "        cd = int(math.sqrt((p1[0]**2)+(p1[1]**2)+(p1[2]**2)+(p1[3]**2)))\n",
    "        ad = int(math.sqrt((p3[0]**2)+(p3[1]**2)+(p3[2]**2)+(p3[3]**2)))\n",
    "        \n",
    "    elif(z==\"n3\")and(y==\"n2\"):\n",
    "        \n",
    "        ab = int((p2[0]*p3[0])+(p2[1]*p3[1])+(p2[2]*p3[2])+(p2[3]*p3[3]))\n",
    "        cd = int(math.sqrt((p2[0]**2)+(p2[1]**2)+(p2[2]**2)+(p2[3]**2)))\n",
    "        ad = int(math.sqrt((p3[0]**2)+(p3[1]**2)+(p3[2]**2)+(p3[3]**2)))\n",
    "    \n",
    "    elif(z==\"n3\")and(y==\"n4\"):\n",
    "        \n",
    "        ab = int((p3[0]*p4[0])+(p3[1]*p4[1])+(p3[2]*p4[2])+(p3[3]*p4[3]))\n",
    "        cd = int(math.sqrt((p3[0]**2)+(p3[1]**2)+(p3[2]**2)+(p3[3]**2)))\n",
    "        ad = int(math.sqrt((p4[0]**2)+(p4[1]**2)+(p4[2]**2)+(p4[3]**2))) \n",
    "        \n",
    "    elif(z==\"n4\")and(y==\"n2\"):\n",
    "        \n",
    "        ab = int((p2[0]*p4[0])+(p2[1]*p4[1])+(p2[2]*p4[2])+(p2[3]*p4[3]))\n",
    "        cd = int(math.sqrt((p2[0]**2)+(p2[1]**2)+(p2[2]**2)+(p2[3]**2)))\n",
    "        ad = int(math.sqrt((p4[0]**2)+(p4[1]**2)+(p4[2]**2)+(p4[3]**2)))\n",
    "        \n",
    "    elif(z==\"n4\")and(y==\"n3\"):\n",
    "        \n",
    "        ab = int((p3[0]*p4[0])+(p3[1]*p4[1])+(p3[2]*p4[2])+(p3[3]*p4[3]))\n",
    "        cd = int(math.sqrt((p3[0]**2)+(p3[1]**2)+(p3[2]**2)+(p3[3]**2)))\n",
    "        ad = int(math.sqrt((p4[0]**2)+(p4[1]**2)+(p4[2]**2)+(p4[3]**2)))\n",
    "        \n",
    "    else:\n",
    "        print(\"no\")\n",
    "    \n",
    "    zi = ab/(cd*ad)\n",
    "    return(zi)\n",
    "\n",
    "sys.modules[__name__] = matriz(z,y)\n",
    "\n",
    "print(\"--------------------------------------------\")\n",
    "print(\"El paralelismo entre estos elementos claramente es\")\n",
    "print(matriz(z,y))"
   ]
  },
  {
   "cell_type": "code",
   "execution_count": null,
   "id": "dbd1513c",
   "metadata": {},
   "outputs": [],
   "source": []
  },
  {
   "cell_type": "code",
   "execution_count": null,
   "id": "63c7bff1",
   "metadata": {},
   "outputs": [],
   "source": []
  }
 ],
 "metadata": {
  "kernelspec": {
   "display_name": "Python 3 (ipykernel)",
   "language": "python",
   "name": "python3"
  },
  "language_info": {
   "codemirror_mode": {
    "name": "ipython",
    "version": 3
   },
   "file_extension": ".py",
   "mimetype": "text/x-python",
   "name": "python",
   "nbconvert_exporter": "python",
   "pygments_lexer": "ipython3",
   "version": "3.9.12"
  },
  "vscode": {
   "interpreter": {
    "hash": "52634da84371cba311ea128a5ea7cdc41ff074b781779e754b270ff9f8153cee"
   }
  }
 },
 "nbformat": 4,
 "nbformat_minor": 5
}
