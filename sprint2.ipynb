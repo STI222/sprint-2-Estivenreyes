{
 "cells": [
  {
   "cell_type": "code",
   "execution_count": 4,
   "id": "572ca1a0",
   "metadata": {
    "scrolled": true
   },
   "outputs": [
    {
     "name": "stdout",
     "output_type": "stream",
     "text": [
      "      Nombre  Mejia  Joseph  Jhonathan  Jolyne\n",
      "0     Fuerza     90     200        150     205\n",
      "1         IQ    500     300        120     180\n",
      "2  Velocidad     20     120         80     230\n",
      "3       Edad     22      19         26      18\n",
      "Se realiza el ingreso a los participantes del torneo de fuerza persona 1:c0\n",
      "Chequeo de quienes pagaron la entrada al torneo perosna 2:c3\n",
      "no\n"
     ]
    },
    {
     "ename": "UnboundLocalError",
     "evalue": "local variable 'ab' referenced before assignment",
     "output_type": "error",
     "traceback": [
      "\u001b[1;31m---------------------------------------------------------------------------\u001b[0m",
      "\u001b[1;31mUnboundLocalError\u001b[0m                         Traceback (most recent call last)",
      "Input \u001b[1;32mIn [4]\u001b[0m, in \u001b[0;36m<cell line: 91>\u001b[1;34m()\u001b[0m\n\u001b[0;32m     88\u001b[0m     zi \u001b[38;5;241m=\u001b[39m ab\u001b[38;5;241m/\u001b[39m(cd\u001b[38;5;241m*\u001b[39mad)\n\u001b[0;32m     89\u001b[0m     \u001b[38;5;28;01mreturn\u001b[39;00m(zi)\n\u001b[1;32m---> 91\u001b[0m sys\u001b[38;5;241m.\u001b[39mmodules[\u001b[38;5;18m__name__\u001b[39m] \u001b[38;5;241m=\u001b[39m \u001b[43mmatriz\u001b[49m\u001b[43m(\u001b[49m\u001b[43mz\u001b[49m\u001b[43m,\u001b[49m\u001b[43my\u001b[49m\u001b[43m)\u001b[49m\n\u001b[0;32m     93\u001b[0m \u001b[38;5;28mprint\u001b[39m(\u001b[38;5;124m\"\u001b[39m\u001b[38;5;124m--------------------------------------------\u001b[39m\u001b[38;5;124m\"\u001b[39m)\n\u001b[0;32m     94\u001b[0m \u001b[38;5;28mprint\u001b[39m(\u001b[38;5;124m\"\u001b[39m\u001b[38;5;124mEl paralelismo entre estos elementos claramente es\u001b[39m\u001b[38;5;124m\"\u001b[39m)\n",
      "Input \u001b[1;32mIn [4]\u001b[0m, in \u001b[0;36mmatriz\u001b[1;34m(c0, c9)\u001b[0m\n\u001b[0;32m     85\u001b[0m \u001b[38;5;28;01melse\u001b[39;00m:\n\u001b[0;32m     86\u001b[0m     \u001b[38;5;28mprint\u001b[39m(\u001b[38;5;124m\"\u001b[39m\u001b[38;5;124mno\u001b[39m\u001b[38;5;124m\"\u001b[39m)\n\u001b[1;32m---> 88\u001b[0m zi \u001b[38;5;241m=\u001b[39m \u001b[43mab\u001b[49m\u001b[38;5;241m/\u001b[39m(cd\u001b[38;5;241m*\u001b[39mad)\n\u001b[0;32m     89\u001b[0m \u001b[38;5;28;01mreturn\u001b[39;00m(zi)\n",
      "\u001b[1;31mUnboundLocalError\u001b[0m: local variable 'ab' referenced before assignment"
     ]
    }
   ],
   "source": [
    "import sys\n",
    "import math\n",
    "import pandas as pan\n",
    "\n",
    "sp = pan.read_csv(\"./Sprint2.csv\")\n",
    "n1 = sp['Mejia']\n",
    "n2 = sp['Joseph']\n",
    "n3 = sp['Jhonathan']\n",
    "n4 = sp['Jolyne']\n",
    "\n",
    "print(sp)\n",
    "\n",
    "z=input(\"Se realiza el ingreso a los participantes del torneo de fuerza persona 1:\")\n",
    "y=input(\"Chequeo de quienes pagaron la entrada al torneo perosna 2:\") \n",
    "\n",
    "def matriz (c0,c9):\n",
    "    \n",
    "    if(c0==\"n1\")and(c9==\"n2\"):\n",
    "    \n",
    "        ab = int((n1[0]*n2[0])+(n1[1]*n2[1])+(n1[2]*n2[2])+(n1[3]*n2[3]))\n",
    "        cd = int(math.sqrt((n1[0]**2)+(n1[1]**2)+(n1[2]**2)+(n1[3]**2)))\n",
    "        ad = int(math.sqrt((n2[0]**2)+(n2[1]**2)+(n2[2]**2)+(n2[3]**2)))\n",
    "        \n",
    "    elif(z==\"n1\")and(y==\"n3\"):\n",
    "        \n",
    "        ab = int((n1[0]*n3[0])+(n1[1]*n3[1])+(n1[2]*n3[2])+(n1[3]*n3[3]))\n",
    "        cd = int(math.sqrt((n1[0]**2)+(n1[1]**2)+(n1[2]**2)+(n1[3]**2)))\n",
    "        ad = int(math.sqrt((n3[0]**2)+(n3[1]**2)+(n3[2]**2)+(n3[3]**2)))\n",
    "        \n",
    "    elif(z==\"n1\")and(y==\"n4\"):\n",
    "        \n",
    "        ab = int((n4[0]*n1[0])+(n4[1]*n1[1])+(n4[2]*n1[2])+(n4[3]*n1[3]))\n",
    "        cd = int(math.sqrt((n4[0]**2)+(n4[1]**2)+(n4[2]**2)+(n4[3]**2)))\n",
    "        ad = int(math.sqrt((n1[0]**2)+(n1[1]**2)+(n1[2]**2)+(n1[3]**2)))\n",
    "                \n",
    "    \n",
    "    elif(z==\"n2\")and(y==\"n1\"):\n",
    "        \n",
    "        ab = int((n1[0]*n2[0])+(n1[1]*n2[1])+(n1[2]*n2[2])+(n1[3]*n2[3]))\n",
    "        cd = int(math.sqrt((n1[0]**2)+(n1[1]**2)+(n1[2]**2)+(n1[3]**2)))\n",
    "        ad = int(math.sqrt((n2[0]**2)+(n2[1]**2)+(n2[2]**2)+(n2[3]**2)))\n",
    "        \n",
    "    elif(z==\"n2\")and(y==\"n3\"):\n",
    "        \n",
    "        ab = int((n2[0]*n3[0])+(n2[1]*n3[1])+(n2[2]*n3[2])+(n2[3]*n3[3]))\n",
    "        cd = int(math.sqrt((n2[0]**2)+(n2[1]**2)+(n2[2]**2)+(n2[3]**2)))\n",
    "        ad = int(math.sqrt((n3[0]**2)+(n3[1]**2)+(n3[2]**2)+(n3[3]**2)))\n",
    "        \n",
    "    elif(z==\"n2\")and(y==\"n4\"):\n",
    "        \n",
    "        ab = int((n2[0]*n4[0])+(n2[1]*n4[1])+(n2[2]*n4[2])+(n2[3]*n4[3]))\n",
    "        cd = int(math.sqrt((n2[0]**2)+(n2[1]**2)+(n2[2]**2)+(n2[3]**2)))\n",
    "        ad = int(math.sqrt((n4[0]**2)+(n4[1]**2)+(n4[2]**2)+(n4[3]**2)))\n",
    "        \n",
    "    elif(z==\"n3\")and(y==\"n1\"):\n",
    "        \n",
    "        ab = int((n1[0]*n3[0])+(n1[1]*n3[1])+(n1[2]*n3[2])+(n1[3]*n3[3]))\n",
    "        cd = int(math.sqrt((n1[0]**2)+(n1[1]**2)+(n1[2]**2)+(n1[3]**2)))\n",
    "        ad = int(math.sqrt((n3[0]**2)+(n3[1]**2)+(n3[2]**2)+(n3[3]**2)))\n",
    "        \n",
    "    elif(z==\"n3\")and(y==\"n2\"):\n",
    "        \n",
    "        ab = int((n2[0]*n3[0])+(n2[1]*n3[1])+(n2[2]*n3[2])+(n2[3]*n3[3]))\n",
    "        cd = int(math.sqrt((n2[0]**2)+(n2[1]**2)+(n2[2]**2)+(n2[3]**2)))\n",
    "        ad = int(math.sqrt((n3[0]**2)+(n3[1]**2)+(n3[2]**2)+(n3[3]**2)))\n",
    "    \n",
    "    elif(z==\"n3\")and(y==\"n4\"):\n",
    "        \n",
    "        ab = int((n3[0]*n4[0])+(n3[1]*n4[1])+(n3[2]*n4[2])+(n3[3]*n4[3]))\n",
    "        cd = int(math.sqrt((n3[0]**2)+(n3[1]**2)+(n3[2]**2)+(n3[3]**2)))\n",
    "        ad = int(math.sqrt((n4[0]**2)+(n4[1]**2)+(n4[2]**2)+(n4[3]**2))) \n",
    "        \n",
    "    elif(z==\"n4\")and(y==\"n2\"):\n",
    "        \n",
    "        ab = int((n2[0]*n4[0])+(n2[1]*n4[1])+(n2[2]*n4[2])+(n2[3]*n4[3]))\n",
    "        cd = int(math.sqrt((n2[0]**2)+(n2[1]**2)+(n2[2]**2)+(n2[3]**2)))\n",
    "        ad = int(math.sqrt((n4[0]**2)+(n4[1]**2)+(n4[2]**2)+(n4[3]**2)))\n",
    "        \n",
    "    elif(z==\"n4\")and(y==\"n3\"):\n",
    "        \n",
    "        ab = int((n3[0]*n4[0])+(n3[1]*n4[1])+(n3[2]*n4[2])+(n3[3]*n4[3]))\n",
    "        cd = int(math.sqrt((n3[0]**2)+(n3[1]**2)+(n3[2]**2)+(n3[3]**2)))\n",
    "        ad = int(math.sqrt((n4[0]**2)+(n4[1]**2)+(n4[2]**2)+(n4[3]**2)))\n",
    "        \n",
    "    else:\n",
    "        print(\"no\")\n",
    "    \n",
    "    zi = ab/(cd*ad)\n",
    "    return(zi)\n",
    "\n",
    "sys.modules[__name__] = matriz(z,y)\n",
    "\n",
    "print(\"--------------------------------------------\")\n",
    "print(\"El paralelismo entre estos elementos claramente es\")\n",
    "print(matriz(z,y))"
   ]
  },
  {
   "cell_type": "code",
   "execution_count": null,
   "id": "dbd1513c",
   "metadata": {},
   "outputs": [],
   "source": []
  },
  {
   "cell_type": "code",
   "execution_count": null,
   "id": "e36cf919",
   "metadata": {},
   "outputs": [],
   "source": []
  }
 ],
 "metadata": {
  "kernelspec": {
   "display_name": "Python 3 (ipykernel)",
   "language": "python",
   "name": "python3"
  },
  "language_info": {
   "codemirror_mode": {
    "name": "ipython",
    "version": 3
   },
   "file_extension": ".py",
   "mimetype": "text/x-python",
   "name": "python",
   "nbconvert_exporter": "python",
   "pygments_lexer": "ipython3",
   "version": "3.10.6"
  },
  "vscode": {
   "interpreter": {
    "hash": "52634da84371cba311ea128a5ea7cdc41ff074b781779e754b270ff9f8153cee"
   }
  }
 },
 "nbformat": 4,
 "nbformat_minor": 5
}
